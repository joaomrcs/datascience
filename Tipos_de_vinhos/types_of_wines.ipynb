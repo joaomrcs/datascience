{
 "cells": [
  {
   "cell_type": "markdown",
   "id": "0e5b80a3-292d-4fae-bb2c-9ac4cbcfff71",
   "metadata": {},
   "source": [
    "## Importando as bibliotecas"
   ]
  },
  {
   "cell_type": "markdown",
   "id": "94265dff-2959-443a-bed9-d483a7e2ac18",
   "metadata": {},
   "source": [
    "#### Biblioteca pandas"
   ]
  },
  {
   "cell_type": "code",
   "execution_count": 1,
   "id": "b53fbcd0-0a95-499f-b274-0754caa14dac",
   "metadata": {},
   "outputs": [],
   "source": [
    "import pandas as pd"
   ]
  },
  {
   "cell_type": "markdown",
   "id": "c2219b08-096f-4b33-af2f-86ae321a864c",
   "metadata": {},
   "source": [
    "#### Biblioteca sklearn, somente as funções necessárias "
   ]
  },
  {
   "cell_type": "code",
   "execution_count": 2,
   "id": "85cc68e6-9370-4c28-884e-1edf19bfe8d8",
   "metadata": {},
   "outputs": [],
   "source": [
    "from sklearn.model_selection import train_test_split\n",
    "from sklearn.ensemble import ExtraTreesClassifier"
   ]
  },
  {
   "cell_type": "markdown",
   "id": "07a12e3b-c175-4b8a-86d7-6aa2ff81b3cb",
   "metadata": {},
   "source": [
    "### Atribuindo o dataset em uma variável"
   ]
  },
  {
   "cell_type": "code",
   "execution_count": 3,
   "id": "0c75771b-07aa-4e08-8a21-7346324d24f6",
   "metadata": {},
   "outputs": [],
   "source": [
    "df = pd.read_csv('wine_dataset.csv')"
   ]
  },
  {
   "cell_type": "markdown",
   "id": "b487c0db-51ae-4116-a16a-75373ead3ad0",
   "metadata": {},
   "source": [
    "### Imprimindo o conjunto de dados com as primeiras 5 linhas"
   ]
  },
  {
   "cell_type": "code",
   "execution_count": 4,
   "id": "282d6325-27de-4011-b7f2-acdcb5ca77d4",
   "metadata": {},
   "outputs": [
    {
     "data": {
      "text/html": [
       "<div>\n",
       "<style scoped>\n",
       "    .dataframe tbody tr th:only-of-type {\n",
       "        vertical-align: middle;\n",
       "    }\n",
       "\n",
       "    .dataframe tbody tr th {\n",
       "        vertical-align: top;\n",
       "    }\n",
       "\n",
       "    .dataframe thead th {\n",
       "        text-align: right;\n",
       "    }\n",
       "</style>\n",
       "<table border=\"1\" class=\"dataframe\">\n",
       "  <thead>\n",
       "    <tr style=\"text-align: right;\">\n",
       "      <th></th>\n",
       "      <th>fixed_acidity</th>\n",
       "      <th>volatile_acidity</th>\n",
       "      <th>citric_acid</th>\n",
       "      <th>residual_sugar</th>\n",
       "      <th>chlorides</th>\n",
       "      <th>free_sulfur_dioxide</th>\n",
       "      <th>total_sulfur_dioxide</th>\n",
       "      <th>density</th>\n",
       "      <th>pH</th>\n",
       "      <th>sulphates</th>\n",
       "      <th>alcohol</th>\n",
       "      <th>quality</th>\n",
       "      <th>style</th>\n",
       "    </tr>\n",
       "  </thead>\n",
       "  <tbody>\n",
       "    <tr>\n",
       "      <th>0</th>\n",
       "      <td>7.4</td>\n",
       "      <td>0.70</td>\n",
       "      <td>0.00</td>\n",
       "      <td>1.9</td>\n",
       "      <td>0.076</td>\n",
       "      <td>11.0</td>\n",
       "      <td>34.0</td>\n",
       "      <td>0.9978</td>\n",
       "      <td>3.51</td>\n",
       "      <td>0.56</td>\n",
       "      <td>9.4</td>\n",
       "      <td>5</td>\n",
       "      <td>red</td>\n",
       "    </tr>\n",
       "    <tr>\n",
       "      <th>1</th>\n",
       "      <td>7.8</td>\n",
       "      <td>0.88</td>\n",
       "      <td>0.00</td>\n",
       "      <td>2.6</td>\n",
       "      <td>0.098</td>\n",
       "      <td>25.0</td>\n",
       "      <td>67.0</td>\n",
       "      <td>0.9968</td>\n",
       "      <td>3.20</td>\n",
       "      <td>0.68</td>\n",
       "      <td>9.8</td>\n",
       "      <td>5</td>\n",
       "      <td>red</td>\n",
       "    </tr>\n",
       "    <tr>\n",
       "      <th>2</th>\n",
       "      <td>7.8</td>\n",
       "      <td>0.76</td>\n",
       "      <td>0.04</td>\n",
       "      <td>2.3</td>\n",
       "      <td>0.092</td>\n",
       "      <td>15.0</td>\n",
       "      <td>54.0</td>\n",
       "      <td>0.9970</td>\n",
       "      <td>3.26</td>\n",
       "      <td>0.65</td>\n",
       "      <td>9.8</td>\n",
       "      <td>5</td>\n",
       "      <td>red</td>\n",
       "    </tr>\n",
       "    <tr>\n",
       "      <th>3</th>\n",
       "      <td>11.2</td>\n",
       "      <td>0.28</td>\n",
       "      <td>0.56</td>\n",
       "      <td>1.9</td>\n",
       "      <td>0.075</td>\n",
       "      <td>17.0</td>\n",
       "      <td>60.0</td>\n",
       "      <td>0.9980</td>\n",
       "      <td>3.16</td>\n",
       "      <td>0.58</td>\n",
       "      <td>9.8</td>\n",
       "      <td>6</td>\n",
       "      <td>red</td>\n",
       "    </tr>\n",
       "    <tr>\n",
       "      <th>4</th>\n",
       "      <td>7.4</td>\n",
       "      <td>0.70</td>\n",
       "      <td>0.00</td>\n",
       "      <td>1.9</td>\n",
       "      <td>0.076</td>\n",
       "      <td>11.0</td>\n",
       "      <td>34.0</td>\n",
       "      <td>0.9978</td>\n",
       "      <td>3.51</td>\n",
       "      <td>0.56</td>\n",
       "      <td>9.4</td>\n",
       "      <td>5</td>\n",
       "      <td>red</td>\n",
       "    </tr>\n",
       "  </tbody>\n",
       "</table>\n",
       "</div>"
      ],
      "text/plain": [
       "   fixed_acidity  volatile_acidity  citric_acid  residual_sugar  chlorides  \\\n",
       "0            7.4              0.70         0.00             1.9      0.076   \n",
       "1            7.8              0.88         0.00             2.6      0.098   \n",
       "2            7.8              0.76         0.04             2.3      0.092   \n",
       "3           11.2              0.28         0.56             1.9      0.075   \n",
       "4            7.4              0.70         0.00             1.9      0.076   \n",
       "\n",
       "   free_sulfur_dioxide  total_sulfur_dioxide  density    pH  sulphates  \\\n",
       "0                 11.0                  34.0   0.9978  3.51       0.56   \n",
       "1                 25.0                  67.0   0.9968  3.20       0.68   \n",
       "2                 15.0                  54.0   0.9970  3.26       0.65   \n",
       "3                 17.0                  60.0   0.9980  3.16       0.58   \n",
       "4                 11.0                  34.0   0.9978  3.51       0.56   \n",
       "\n",
       "   alcohol  quality style  \n",
       "0      9.4        5   red  \n",
       "1      9.8        5   red  \n",
       "2      9.8        5   red  \n",
       "3      9.8        6   red  \n",
       "4      9.4        5   red  "
      ]
     },
     "execution_count": 4,
     "metadata": {},
     "output_type": "execute_result"
    }
   ],
   "source": [
    "df.head()"
   ]
  },
  {
   "cell_type": "markdown",
   "id": "a3dbf2ab-e6ef-478e-8c35-cb3d20526a67",
   "metadata": {},
   "source": [
    "### Imprimindo todas as colunas"
   ]
  },
  {
   "cell_type": "code",
   "execution_count": 5,
   "id": "fd797767-4da2-4cba-9c52-1645df27dfe6",
   "metadata": {},
   "outputs": [
    {
     "data": {
      "text/plain": [
       "Index(['fixed_acidity', 'volatile_acidity', 'citric_acid', 'residual_sugar',\n",
       "       'chlorides', 'free_sulfur_dioxide', 'total_sulfur_dioxide', 'density',\n",
       "       'pH', 'sulphates', 'alcohol', 'quality', 'style'],\n",
       "      dtype='object')"
      ]
     },
     "execution_count": 5,
     "metadata": {},
     "output_type": "execute_result"
    }
   ],
   "source": [
    "df.columns"
   ]
  },
  {
   "cell_type": "markdown",
   "id": "98a4b772-7416-48ec-a551-e4be118dd547",
   "metadata": {},
   "source": [
    "### Imprimindo a quantidade de linhas e colunas, respectivamente"
   ]
  },
  {
   "cell_type": "code",
   "execution_count": 6,
   "id": "e5898a11-d961-4461-9543-5e958c69d909",
   "metadata": {},
   "outputs": [
    {
     "data": {
      "text/plain": [
       "(6497, 13)"
      ]
     },
     "execution_count": 6,
     "metadata": {},
     "output_type": "execute_result"
    }
   ],
   "source": [
    "df.shape"
   ]
  },
  {
   "cell_type": "markdown",
   "id": "ed6022d3-4e54-45f6-8b61-ec9fc9ce4d4c",
   "metadata": {},
   "source": [
    "### A coluna style será o alvo para realizar o aprendizado de máquina\n",
    "#### Próximo passo é selecionar a coluna e realizar duas alterações\n",
    "#### Mudar o tipo **red** para 0 e o tipo **white** para 1"
   ]
  },
  {
   "cell_type": "code",
   "execution_count": 7,
   "id": "a4f5ba22-b7fb-4538-8885-833ad2599338",
   "metadata": {},
   "outputs": [],
   "source": [
    "df['style'] = df['style'].replace('red', 0) \n",
    "df['style'] = df['style'].replace('white', 1) "
   ]
  },
  {
   "cell_type": "markdown",
   "id": "085f97bf-923c-47ab-ba08-0832ffa5ea5f",
   "metadata": {},
   "source": [
    "### Instânciando as variáveis, alvo e preditora, respectivamente\n",
    "#### Obs: na preditora é realizado o drop somente da coluna style"
   ]
  },
  {
   "cell_type": "code",
   "execution_count": 8,
   "id": "5fdbcd3b-7a05-4927-9024-7a9ce72f5ae9",
   "metadata": {},
   "outputs": [],
   "source": [
    "y = df['style']\n",
    "x = df.drop('style', axis=1)"
   ]
  },
  {
   "cell_type": "markdown",
   "id": "3ac6c308-a521-47d6-9551-eebe206a45f3",
   "metadata": {},
   "source": [
    "### Criando os conjuntos de dados, treino e teste\n",
    "#### Setando 30% para teste e por consequência 70% para treino"
   ]
  },
  {
   "cell_type": "code",
   "execution_count": 9,
   "id": "1b0593f5-cb8f-4a24-955a-553f6b00d1cc",
   "metadata": {},
   "outputs": [],
   "source": [
    "x_train, x_test, y_train, y_test = train_test_split(x, y, test_size = 0.3)"
   ]
  },
  {
   "cell_type": "markdown",
   "id": "c3967db2-417e-4305-8d3f-4eccb51dd6fd",
   "metadata": {},
   "source": [
    "### Porcentagem que foi separada para treino (70%)"
   ]
  },
  {
   "cell_type": "code",
   "execution_count": 10,
   "id": "98e2d79b-2645-43e9-872d-e884f8724ac1",
   "metadata": {},
   "outputs": [
    {
     "data": {
      "text/plain": [
       "(4547,)"
      ]
     },
     "execution_count": 10,
     "metadata": {},
     "output_type": "execute_result"
    }
   ],
   "source": [
    "y_train.shape"
   ]
  },
  {
   "cell_type": "markdown",
   "id": "7bc37c36-b2da-4ecb-9371-2b03f5407713",
   "metadata": {},
   "source": [
    "### Porcentagem que foi separada para teste (30%)"
   ]
  },
  {
   "cell_type": "code",
   "execution_count": 11,
   "id": "7b65770c-d612-4d9b-9f17-77d073492976",
   "metadata": {},
   "outputs": [
    {
     "data": {
      "text/plain": [
       "(1950,)"
      ]
     },
     "execution_count": 11,
     "metadata": {},
     "output_type": "execute_result"
    }
   ],
   "source": [
    "y_test.shape"
   ]
  },
  {
   "cell_type": "markdown",
   "id": "a98dbaa8-37c1-4fe8-b89f-b692a98aa15e",
   "metadata": {},
   "source": [
    "### Modelo de treino\n",
    "#### Atribuindo a função do sklearn para uma variável\n",
    "#### Usando a mesma para cumprir com o objetivo"
   ]
  },
  {
   "cell_type": "code",
   "execution_count": 12,
   "id": "50c6b4c3-7377-4ac8-82ee-991eea5ff9b0",
   "metadata": {},
   "outputs": [
    {
     "data": {
      "text/plain": [
       "ExtraTreesClassifier()"
      ]
     },
     "execution_count": 12,
     "metadata": {},
     "output_type": "execute_result"
    }
   ],
   "source": [
    "model = ExtraTreesClassifier()\n",
    "model.fit(x_train, y_train)"
   ]
  },
  {
   "cell_type": "markdown",
   "id": "8861c7c7-15ee-4531-bc2e-c138752f9c79",
   "metadata": {},
   "source": [
    "### Modelo de teste\n",
    "#### Para saber a acurácia do modelo"
   ]
  },
  {
   "cell_type": "code",
   "execution_count": 13,
   "id": "d399415e-5444-4568-8597-cebf09a6b0de",
   "metadata": {},
   "outputs": [],
   "source": [
    "accuracy = model.score(x_test, y_test)"
   ]
  },
  {
   "cell_type": "markdown",
   "id": "069f0bbc-b066-4832-a474-a6b1bfe5586f",
   "metadata": {},
   "source": [
    "### Imprimindo a acurácia do modelo"
   ]
  },
  {
   "cell_type": "code",
   "execution_count": 14,
   "id": "f1270738-af3e-4b24-bcd0-3ca686a7f67e",
   "metadata": {},
   "outputs": [
    {
     "name": "stdout",
     "output_type": "stream",
     "text": [
      "Accuracy:  0.9958974358974358\n"
     ]
    }
   ],
   "source": [
    "print('Accuracy: ', accuracy)"
   ]
  },
  {
   "cell_type": "markdown",
   "id": "4c3ebb54-b6a3-47ba-88a7-ecc97b2dbdd0",
   "metadata": {},
   "source": [
    "### Classificação\n",
    "#### Utilizando cinco linhas aleatórias do dataset"
   ]
  },
  {
   "cell_type": "code",
   "execution_count": 15,
   "id": "6a7a2c8d-cbe1-434e-9b56-14b51859a9ec",
   "metadata": {},
   "outputs": [
    {
     "data": {
      "text/plain": [
       "5814    1\n",
       "2214    1\n",
       "178     0\n",
       "5823    1\n",
       "5836    1\n",
       "Name: style, dtype: int64"
      ]
     },
     "execution_count": 15,
     "metadata": {},
     "output_type": "execute_result"
    }
   ],
   "source": [
    "y_test[100:105]"
   ]
  },
  {
   "cell_type": "markdown",
   "id": "a0f1917b-42b6-421e-aed7-adbcf7db420a",
   "metadata": {},
   "source": [
    "### Preditora\n",
    "#### Utilizando as mesmas cinco linhas para fazer a comparação e ver se o modelo é realmente funcional"
   ]
  },
  {
   "cell_type": "code",
   "execution_count": 16,
   "id": "37a61ae1-e102-44f9-9814-ea68cedd1e82",
   "metadata": {},
   "outputs": [
    {
     "data": {
      "text/html": [
       "<div>\n",
       "<style scoped>\n",
       "    .dataframe tbody tr th:only-of-type {\n",
       "        vertical-align: middle;\n",
       "    }\n",
       "\n",
       "    .dataframe tbody tr th {\n",
       "        vertical-align: top;\n",
       "    }\n",
       "\n",
       "    .dataframe thead th {\n",
       "        text-align: right;\n",
       "    }\n",
       "</style>\n",
       "<table border=\"1\" class=\"dataframe\">\n",
       "  <thead>\n",
       "    <tr style=\"text-align: right;\">\n",
       "      <th></th>\n",
       "      <th>fixed_acidity</th>\n",
       "      <th>volatile_acidity</th>\n",
       "      <th>citric_acid</th>\n",
       "      <th>residual_sugar</th>\n",
       "      <th>chlorides</th>\n",
       "      <th>free_sulfur_dioxide</th>\n",
       "      <th>total_sulfur_dioxide</th>\n",
       "      <th>density</th>\n",
       "      <th>pH</th>\n",
       "      <th>sulphates</th>\n",
       "      <th>alcohol</th>\n",
       "      <th>quality</th>\n",
       "    </tr>\n",
       "  </thead>\n",
       "  <tbody>\n",
       "    <tr>\n",
       "      <th>5814</th>\n",
       "      <td>7.0</td>\n",
       "      <td>0.440</td>\n",
       "      <td>0.24</td>\n",
       "      <td>12.1</td>\n",
       "      <td>0.056</td>\n",
       "      <td>68.0</td>\n",
       "      <td>210.0</td>\n",
       "      <td>0.99718</td>\n",
       "      <td>3.05</td>\n",
       "      <td>0.50</td>\n",
       "      <td>9.5</td>\n",
       "      <td>5</td>\n",
       "    </tr>\n",
       "    <tr>\n",
       "      <th>2214</th>\n",
       "      <td>7.5</td>\n",
       "      <td>0.230</td>\n",
       "      <td>0.68</td>\n",
       "      <td>11.0</td>\n",
       "      <td>0.047</td>\n",
       "      <td>37.0</td>\n",
       "      <td>133.0</td>\n",
       "      <td>0.99780</td>\n",
       "      <td>2.99</td>\n",
       "      <td>0.38</td>\n",
       "      <td>8.8</td>\n",
       "      <td>5</td>\n",
       "    </tr>\n",
       "    <tr>\n",
       "      <th>178</th>\n",
       "      <td>7.0</td>\n",
       "      <td>0.805</td>\n",
       "      <td>0.00</td>\n",
       "      <td>2.5</td>\n",
       "      <td>0.068</td>\n",
       "      <td>7.0</td>\n",
       "      <td>20.0</td>\n",
       "      <td>0.99690</td>\n",
       "      <td>3.48</td>\n",
       "      <td>0.56</td>\n",
       "      <td>9.6</td>\n",
       "      <td>5</td>\n",
       "    </tr>\n",
       "    <tr>\n",
       "      <th>5823</th>\n",
       "      <td>5.4</td>\n",
       "      <td>0.220</td>\n",
       "      <td>0.35</td>\n",
       "      <td>6.5</td>\n",
       "      <td>0.029</td>\n",
       "      <td>26.0</td>\n",
       "      <td>87.0</td>\n",
       "      <td>0.99092</td>\n",
       "      <td>3.29</td>\n",
       "      <td>0.44</td>\n",
       "      <td>12.5</td>\n",
       "      <td>7</td>\n",
       "    </tr>\n",
       "    <tr>\n",
       "      <th>5836</th>\n",
       "      <td>7.5</td>\n",
       "      <td>0.230</td>\n",
       "      <td>0.30</td>\n",
       "      <td>1.2</td>\n",
       "      <td>0.030</td>\n",
       "      <td>27.0</td>\n",
       "      <td>80.0</td>\n",
       "      <td>0.99192</td>\n",
       "      <td>3.05</td>\n",
       "      <td>0.68</td>\n",
       "      <td>10.5</td>\n",
       "      <td>5</td>\n",
       "    </tr>\n",
       "  </tbody>\n",
       "</table>\n",
       "</div>"
      ],
      "text/plain": [
       "      fixed_acidity  volatile_acidity  citric_acid  residual_sugar  chlorides  \\\n",
       "5814            7.0             0.440         0.24            12.1      0.056   \n",
       "2214            7.5             0.230         0.68            11.0      0.047   \n",
       "178             7.0             0.805         0.00             2.5      0.068   \n",
       "5823            5.4             0.220         0.35             6.5      0.029   \n",
       "5836            7.5             0.230         0.30             1.2      0.030   \n",
       "\n",
       "      free_sulfur_dioxide  total_sulfur_dioxide  density    pH  sulphates  \\\n",
       "5814                 68.0                 210.0  0.99718  3.05       0.50   \n",
       "2214                 37.0                 133.0  0.99780  2.99       0.38   \n",
       "178                   7.0                  20.0  0.99690  3.48       0.56   \n",
       "5823                 26.0                  87.0  0.99092  3.29       0.44   \n",
       "5836                 27.0                  80.0  0.99192  3.05       0.68   \n",
       "\n",
       "      alcohol  quality  \n",
       "5814      9.5        5  \n",
       "2214      8.8        5  \n",
       "178       9.6        5  \n",
       "5823     12.5        7  \n",
       "5836     10.5        5  "
      ]
     },
     "execution_count": 16,
     "metadata": {},
     "output_type": "execute_result"
    }
   ],
   "source": [
    "x_test[100:105]"
   ]
  },
  {
   "cell_type": "markdown",
   "id": "d64e23db-4023-4c0d-9695-67962d771391",
   "metadata": {},
   "source": [
    "### Realizando a previsão\n",
    "#### Selecionando as cinco linhas para fazer o teste"
   ]
  },
  {
   "cell_type": "code",
   "execution_count": 17,
   "id": "76c6a49d-8dca-492c-b98c-bdd5009ffe36",
   "metadata": {},
   "outputs": [],
   "source": [
    "predictions = model.predict(x_test[100:105])"
   ]
  },
  {
   "cell_type": "markdown",
   "id": "37c8e635-fed2-48df-8b40-1d5fcdbe77df",
   "metadata": {},
   "source": [
    "### Imprimindo as previsões"
   ]
  },
  {
   "cell_type": "code",
   "execution_count": 18,
   "id": "942b696d-5460-4d40-acd4-c4526402973b",
   "metadata": {},
   "outputs": [
    {
     "data": {
      "text/plain": [
       "array([1, 1, 0, 1, 1])"
      ]
     },
     "execution_count": 18,
     "metadata": {},
     "output_type": "execute_result"
    }
   ],
   "source": [
    "predictions"
   ]
  },
  {
   "cell_type": "markdown",
   "id": "32ea98d6-c3ea-40cc-8fad-38d5819c5583",
   "metadata": {},
   "source": [
    "#### Aprendizado realizado com sucesso, acertando todos os tipos de vinhos, tendo **100%** de precisão nas previsões\n",
    "##### Teste simples, porém funcional."
   ]
  }
 ],
 "metadata": {
  "kernelspec": {
   "display_name": "Python 3",
   "language": "python",
   "name": "python3"
  },
  "language_info": {
   "codemirror_mode": {
    "name": "ipython",
    "version": 3
   },
   "file_extension": ".py",
   "mimetype": "text/x-python",
   "name": "python",
   "nbconvert_exporter": "python",
   "pygments_lexer": "ipython3",
   "version": "3.8.8"
  }
 },
 "nbformat": 4,
 "nbformat_minor": 5
}