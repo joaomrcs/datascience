{
 "cells": [
  {
   "cell_type": "markdown",
   "id": "30dd0396-e145-4e93-b687-938606917542",
   "metadata": {},
   "source": [
    "## Importando as bibliotecas"
   ]
  },
  {
   "cell_type": "code",
   "execution_count": 1,
   "id": "b68141ac-9efd-410a-b61f-47be5cf992b7",
   "metadata": {},
   "outputs": [],
   "source": [
    "import pandas as pd\n",
    "import numpy as np\n",
    "from matplotlib import pyplot as plt\n",
    "from sklearn import linear_model as lm\n",
    "from sklearn.model_selection import train_test_split\n",
    "from sklearn.metrics import r2_score"
   ]
  },
  {
   "cell_type": "markdown",
   "id": "412dd4a4-125e-419a-b756-587a894f39c6",
   "metadata": {},
   "source": [
    "### Atribuindo o dataset a uma variável"
   ]
  },
  {
   "cell_type": "code",
   "execution_count": 2,
   "id": "9003d1f6-8702-4831-b209-57ed21a12369",
   "metadata": {},
   "outputs": [],
   "source": [
    "df = pd.read_csv('DesafioEstagioMachineLearning.csv')"
   ]
  },
  {
   "cell_type": "markdown",
   "id": "b41274ba-082a-4cfd-bd9a-900b79647d62",
   "metadata": {},
   "source": [
    "### As primeiras cinco linhas do data frame"
   ]
  },
  {
   "cell_type": "code",
   "execution_count": 3,
   "id": "328d5eae-d49c-4640-8386-982ebcf278f4",
   "metadata": {},
   "outputs": [
    {
     "data": {
      "text/html": [
       "<div>\n",
       "<style scoped>\n",
       "    .dataframe tbody tr th:only-of-type {\n",
       "        vertical-align: middle;\n",
       "    }\n",
       "\n",
       "    .dataframe tbody tr th {\n",
       "        vertical-align: top;\n",
       "    }\n",
       "\n",
       "    .dataframe thead th {\n",
       "        text-align: right;\n",
       "    }\n",
       "</style>\n",
       "<table border=\"1\" class=\"dataframe\">\n",
       "  <thead>\n",
       "    <tr style=\"text-align: right;\">\n",
       "      <th></th>\n",
       "      <th>codigo</th>\n",
       "      <th>nome</th>\n",
       "      <th>cidade</th>\n",
       "      <th>estado</th>\n",
       "      <th>população</th>\n",
       "      <th>popAte9</th>\n",
       "      <th>popDe10a14</th>\n",
       "      <th>popDe15a19</th>\n",
       "      <th>popDe20a24</th>\n",
       "      <th>popDe25a34</th>\n",
       "      <th>...</th>\n",
       "      <th>domiciliosA1</th>\n",
       "      <th>domiciliosA2</th>\n",
       "      <th>domiciliosB1</th>\n",
       "      <th>domiciliosB2</th>\n",
       "      <th>domiciliosC1</th>\n",
       "      <th>domiciliosC2</th>\n",
       "      <th>domiciliosD</th>\n",
       "      <th>domiciliosE</th>\n",
       "      <th>rendaMedia</th>\n",
       "      <th>faturamento</th>\n",
       "    </tr>\n",
       "  </thead>\n",
       "  <tbody>\n",
       "    <tr>\n",
       "      <th>0</th>\n",
       "      <td>3304557060</td>\n",
       "      <td>Abolição</td>\n",
       "      <td>Rio de Janeiro</td>\n",
       "      <td>RJ</td>\n",
       "      <td>11676</td>\n",
       "      <td>1027</td>\n",
       "      <td>483</td>\n",
       "      <td>688</td>\n",
       "      <td>800</td>\n",
       "      <td>1675</td>\n",
       "      <td>...</td>\n",
       "      <td>0</td>\n",
       "      <td>145</td>\n",
       "      <td>715</td>\n",
       "      <td>1242</td>\n",
       "      <td>1093</td>\n",
       "      <td>758</td>\n",
       "      <td>92</td>\n",
       "      <td>304</td>\n",
       "      <td>2501.0</td>\n",
       "      <td>932515.0</td>\n",
       "    </tr>\n",
       "    <tr>\n",
       "      <th>1</th>\n",
       "      <td>3304557138</td>\n",
       "      <td>Acari</td>\n",
       "      <td>Rio de Janeiro</td>\n",
       "      <td>RJ</td>\n",
       "      <td>27564</td>\n",
       "      <td>5131</td>\n",
       "      <td>2188</td>\n",
       "      <td>2697</td>\n",
       "      <td>2630</td>\n",
       "      <td>4810</td>\n",
       "      <td>...</td>\n",
       "      <td>0</td>\n",
       "      <td>0</td>\n",
       "      <td>82</td>\n",
       "      <td>506</td>\n",
       "      <td>2040</td>\n",
       "      <td>2490</td>\n",
       "      <td>827</td>\n",
       "      <td>2506</td>\n",
       "      <td>931.0</td>\n",
       "      <td>588833.0</td>\n",
       "    </tr>\n",
       "    <tr>\n",
       "      <th>2</th>\n",
       "      <td>3304557057</td>\n",
       "      <td>Água Santa</td>\n",
       "      <td>Rio de Janeiro</td>\n",
       "      <td>RJ</td>\n",
       "      <td>9003</td>\n",
       "      <td>883</td>\n",
       "      <td>399</td>\n",
       "      <td>597</td>\n",
       "      <td>762</td>\n",
       "      <td>1755</td>\n",
       "      <td>...</td>\n",
       "      <td>0</td>\n",
       "      <td>96</td>\n",
       "      <td>404</td>\n",
       "      <td>652</td>\n",
       "      <td>644</td>\n",
       "      <td>522</td>\n",
       "      <td>77</td>\n",
       "      <td>254</td>\n",
       "      <td>2391.0</td>\n",
       "      <td>874200.0</td>\n",
       "    </tr>\n",
       "    <tr>\n",
       "      <th>3</th>\n",
       "      <td>3304557031</td>\n",
       "      <td>Alto Da Boa Vista</td>\n",
       "      <td>Rio de Janeiro</td>\n",
       "      <td>RJ</td>\n",
       "      <td>9606</td>\n",
       "      <td>1072</td>\n",
       "      <td>538</td>\n",
       "      <td>660</td>\n",
       "      <td>685</td>\n",
       "      <td>1317</td>\n",
       "      <td>...</td>\n",
       "      <td>114</td>\n",
       "      <td>178</td>\n",
       "      <td>393</td>\n",
       "      <td>517</td>\n",
       "      <td>945</td>\n",
       "      <td>584</td>\n",
       "      <td>137</td>\n",
       "      <td>286</td>\n",
       "      <td>3727.0</td>\n",
       "      <td>912226.0</td>\n",
       "    </tr>\n",
       "    <tr>\n",
       "      <th>4</th>\n",
       "      <td>3304557125</td>\n",
       "      <td>Anchieta</td>\n",
       "      <td>Rio de Janeiro</td>\n",
       "      <td>RJ</td>\n",
       "      <td>57222</td>\n",
       "      <td>7677</td>\n",
       "      <td>3774</td>\n",
       "      <td>4892</td>\n",
       "      <td>4600</td>\n",
       "      <td>8660</td>\n",
       "      <td>...</td>\n",
       "      <td>0</td>\n",
       "      <td>0</td>\n",
       "      <td>1089</td>\n",
       "      <td>2821</td>\n",
       "      <td>5110</td>\n",
       "      <td>5422</td>\n",
       "      <td>1073</td>\n",
       "      <td>3261</td>\n",
       "      <td>1380.0</td>\n",
       "      <td>553020.0</td>\n",
       "    </tr>\n",
       "  </tbody>\n",
       "</table>\n",
       "<p>5 rows × 23 columns</p>\n",
       "</div>"
      ],
      "text/plain": [
       "       codigo               nome          cidade estado  população  popAte9  \\\n",
       "0  3304557060           Abolição  Rio de Janeiro     RJ      11676     1027   \n",
       "1  3304557138              Acari  Rio de Janeiro     RJ      27564     5131   \n",
       "2  3304557057         Água Santa  Rio de Janeiro     RJ       9003      883   \n",
       "3  3304557031  Alto Da Boa Vista  Rio de Janeiro     RJ       9606     1072   \n",
       "4  3304557125           Anchieta  Rio de Janeiro     RJ      57222     7677   \n",
       "\n",
       "   popDe10a14  popDe15a19  popDe20a24  popDe25a34  ...  domiciliosA1  \\\n",
       "0         483         688         800        1675  ...             0   \n",
       "1        2188        2697        2630        4810  ...             0   \n",
       "2         399         597         762        1755  ...             0   \n",
       "3         538         660         685        1317  ...           114   \n",
       "4        3774        4892        4600        8660  ...             0   \n",
       "\n",
       "   domiciliosA2  domiciliosB1  domiciliosB2  domiciliosC1  domiciliosC2  \\\n",
       "0           145           715          1242          1093           758   \n",
       "1             0            82           506          2040          2490   \n",
       "2            96           404           652           644           522   \n",
       "3           178           393           517           945           584   \n",
       "4             0          1089          2821          5110          5422   \n",
       "\n",
       "   domiciliosD  domiciliosE  rendaMedia  faturamento  \n",
       "0           92          304      2501.0     932515.0  \n",
       "1          827         2506       931.0     588833.0  \n",
       "2           77          254      2391.0     874200.0  \n",
       "3          137          286      3727.0     912226.0  \n",
       "4         1073         3261      1380.0     553020.0  \n",
       "\n",
       "[5 rows x 23 columns]"
      ]
     },
     "execution_count": 3,
     "metadata": {},
     "output_type": "execute_result"
    }
   ],
   "source": [
    "df.head()"
   ]
  },
  {
   "cell_type": "markdown",
   "id": "d713d17c-5c2e-42c8-838a-edeccefa3a6e",
   "metadata": {},
   "source": [
    "### Todas as colunas "
   ]
  },
  {
   "cell_type": "code",
   "execution_count": 4,
   "id": "661606ad-09c5-4f3c-a26e-85892700e8f4",
   "metadata": {},
   "outputs": [
    {
     "data": {
      "text/plain": [
       "Index(['codigo', 'nome', 'cidade', 'estado', 'população', 'popAte9',\n",
       "       'popDe10a14', 'popDe15a19', 'popDe20a24', 'popDe25a34', 'popDe35a49',\n",
       "       'popDe50a59', 'popMaisDe60', 'domiciliosA1', 'domiciliosA2',\n",
       "       'domiciliosB1', 'domiciliosB2', 'domiciliosC1', 'domiciliosC2',\n",
       "       'domiciliosD', 'domiciliosE', 'rendaMedia', 'faturamento'],\n",
       "      dtype='object')"
      ]
     },
     "execution_count": 4,
     "metadata": {},
     "output_type": "execute_result"
    }
   ],
   "source": [
    "df.columns"
   ]
  },
  {
   "cell_type": "markdown",
   "id": "5501ceb6-068c-4875-8f75-dd7c9499ecbc",
   "metadata": {},
   "source": [
    "### Tipos dos atributos\n",
    "#### Momento muito importante para identificar logo de começo algum possível atributo que está com um tipo de variável diferente do previsto para ser manipulado lá na frente\n",
    "#### Aparentemente está tudo ok, não vamos precisar realizar nenhuma alteração"
   ]
  },
  {
   "cell_type": "code",
   "execution_count": 5,
   "id": "18e0fd14-936f-42dc-8570-b173e28db5ba",
   "metadata": {},
   "outputs": [
    {
     "data": {
      "text/plain": [
       "codigo            int64\n",
       "nome             object\n",
       "cidade           object\n",
       "estado           object\n",
       "população         int64\n",
       "popAte9           int64\n",
       "popDe10a14        int64\n",
       "popDe15a19        int64\n",
       "popDe20a24        int64\n",
       "popDe25a34        int64\n",
       "popDe35a49        int64\n",
       "popDe50a59        int64\n",
       "popMaisDe60       int64\n",
       "domiciliosA1      int64\n",
       "domiciliosA2      int64\n",
       "domiciliosB1      int64\n",
       "domiciliosB2      int64\n",
       "domiciliosC1      int64\n",
       "domiciliosC2      int64\n",
       "domiciliosD       int64\n",
       "domiciliosE       int64\n",
       "rendaMedia      float64\n",
       "faturamento     float64\n",
       "dtype: object"
      ]
     },
     "execution_count": 5,
     "metadata": {},
     "output_type": "execute_result"
    }
   ],
   "source": [
    "df.dtypes"
   ]
  },
  {
   "cell_type": "markdown",
   "id": "585eee11-99d2-4e3a-bfc0-cfc71ac7c910",
   "metadata": {},
   "source": [
    "### Gerando as estatísticas descritivas\n",
    "#### Obs: Implementei uma função **lambda** para tirar a notação científica dos valores\n",
    "#### O valor que aparece como desvio padrão da renda média é suspeito 🤔"
   ]
  },
  {
   "cell_type": "code",
   "execution_count": 6,
   "id": "c42cca67-c640-4b58-9683-d17c2a81e583",
   "metadata": {},
   "outputs": [
    {
     "data": {
      "text/html": [
       "<div>\n",
       "<style scoped>\n",
       "    .dataframe tbody tr th:only-of-type {\n",
       "        vertical-align: middle;\n",
       "    }\n",
       "\n",
       "    .dataframe tbody tr th {\n",
       "        vertical-align: top;\n",
       "    }\n",
       "\n",
       "    .dataframe thead th {\n",
       "        text-align: right;\n",
       "    }\n",
       "</style>\n",
       "<table border=\"1\" class=\"dataframe\">\n",
       "  <thead>\n",
       "    <tr style=\"text-align: right;\">\n",
       "      <th></th>\n",
       "      <th>codigo</th>\n",
       "      <th>população</th>\n",
       "      <th>popAte9</th>\n",
       "      <th>popDe10a14</th>\n",
       "      <th>popDe15a19</th>\n",
       "      <th>popDe20a24</th>\n",
       "      <th>popDe25a34</th>\n",
       "      <th>popDe35a49</th>\n",
       "      <th>popDe50a59</th>\n",
       "      <th>popMaisDe60</th>\n",
       "      <th>domiciliosA1</th>\n",
       "      <th>domiciliosA2</th>\n",
       "      <th>domiciliosB1</th>\n",
       "      <th>domiciliosB2</th>\n",
       "      <th>domiciliosC1</th>\n",
       "      <th>domiciliosC2</th>\n",
       "      <th>domiciliosD</th>\n",
       "      <th>domiciliosE</th>\n",
       "      <th>rendaMedia</th>\n",
       "      <th>faturamento</th>\n",
       "    </tr>\n",
       "  </thead>\n",
       "  <tbody>\n",
       "    <tr>\n",
       "      <th>count</th>\n",
       "      <td>160.0</td>\n",
       "      <td>160.0</td>\n",
       "      <td>160.0</td>\n",
       "      <td>160.0</td>\n",
       "      <td>160.0</td>\n",
       "      <td>160.0</td>\n",
       "      <td>160.0</td>\n",
       "      <td>160.0</td>\n",
       "      <td>160.0</td>\n",
       "      <td>160.0</td>\n",
       "      <td>160.0</td>\n",
       "      <td>160.0</td>\n",
       "      <td>160.0</td>\n",
       "      <td>160.0</td>\n",
       "      <td>160.0</td>\n",
       "      <td>160.0</td>\n",
       "      <td>160.0</td>\n",
       "      <td>160.0</td>\n",
       "      <td>154.0</td>\n",
       "      <td>160.0</td>\n",
       "    </tr>\n",
       "    <tr>\n",
       "      <th>mean</th>\n",
       "      <td>3304557080.5</td>\n",
       "      <td>42654.3</td>\n",
       "      <td>5329.1</td>\n",
       "      <td>2484.4</td>\n",
       "      <td>3272.2</td>\n",
       "      <td>3349.4</td>\n",
       "      <td>6584.5</td>\n",
       "      <td>8826.9</td>\n",
       "      <td>5332.3</td>\n",
       "      <td>7475.7</td>\n",
       "      <td>388.5</td>\n",
       "      <td>608.3</td>\n",
       "      <td>1871.6</td>\n",
       "      <td>2385.1</td>\n",
       "      <td>3539.8</td>\n",
       "      <td>3030.8</td>\n",
       "      <td>568.4</td>\n",
       "      <td>1821.6</td>\n",
       "      <td>3608.1</td>\n",
       "      <td>876160.0</td>\n",
       "    </tr>\n",
       "    <tr>\n",
       "      <th>std</th>\n",
       "      <td>46.3</td>\n",
       "      <td>64262.9</td>\n",
       "      <td>10816.2</td>\n",
       "      <td>4948.8</td>\n",
       "      <td>5752.2</td>\n",
       "      <td>5601.9</td>\n",
       "      <td>9049.9</td>\n",
       "      <td>11536.3</td>\n",
       "      <td>7986.3</td>\n",
       "      <td>10258.3</td>\n",
       "      <td>1403.6</td>\n",
       "      <td>1535.2</td>\n",
       "      <td>2973.5</td>\n",
       "      <td>2779.1</td>\n",
       "      <td>4324.5</td>\n",
       "      <td>4003.0</td>\n",
       "      <td>823.9</td>\n",
       "      <td>2292.1</td>\n",
       "      <td>6091.9</td>\n",
       "      <td>438210.6</td>\n",
       "    </tr>\n",
       "    <tr>\n",
       "      <th>min</th>\n",
       "      <td>3304557001.0</td>\n",
       "      <td>173.0</td>\n",
       "      <td>33.0</td>\n",
       "      <td>13.0</td>\n",
       "      <td>22.0</td>\n",
       "      <td>17.0</td>\n",
       "      <td>28.0</td>\n",
       "      <td>38.0</td>\n",
       "      <td>10.0</td>\n",
       "      <td>12.0</td>\n",
       "      <td>0.0</td>\n",
       "      <td>0.0</td>\n",
       "      <td>0.0</td>\n",
       "      <td>0.0</td>\n",
       "      <td>5.0</td>\n",
       "      <td>3.0</td>\n",
       "      <td>0.0</td>\n",
       "      <td>2.0</td>\n",
       "      <td>654.0</td>\n",
       "      <td>24651.0</td>\n",
       "    </tr>\n",
       "    <tr>\n",
       "      <th>25%</th>\n",
       "      <td>3304557040.8</td>\n",
       "      <td>13362.8</td>\n",
       "      <td>1512.8</td>\n",
       "      <td>690.8</td>\n",
       "      <td>945.0</td>\n",
       "      <td>994.8</td>\n",
       "      <td>2131.2</td>\n",
       "      <td>2900.8</td>\n",
       "      <td>1598.8</td>\n",
       "      <td>2118.2</td>\n",
       "      <td>0.0</td>\n",
       "      <td>0.0</td>\n",
       "      <td>391.5</td>\n",
       "      <td>716.0</td>\n",
       "      <td>1088.8</td>\n",
       "      <td>789.8</td>\n",
       "      <td>117.8</td>\n",
       "      <td>431.5</td>\n",
       "      <td>1486.0</td>\n",
       "      <td>711278.5</td>\n",
       "    </tr>\n",
       "    <tr>\n",
       "      <th>50%</th>\n",
       "      <td>3304557080.5</td>\n",
       "      <td>26076.0</td>\n",
       "      <td>3111.5</td>\n",
       "      <td>1434.0</td>\n",
       "      <td>2015.0</td>\n",
       "      <td>2142.5</td>\n",
       "      <td>4170.5</td>\n",
       "      <td>5657.0</td>\n",
       "      <td>3371.5</td>\n",
       "      <td>4575.5</td>\n",
       "      <td>0.0</td>\n",
       "      <td>107.5</td>\n",
       "      <td>848.0</td>\n",
       "      <td>1536.0</td>\n",
       "      <td>2394.5</td>\n",
       "      <td>1861.5</td>\n",
       "      <td>327.5</td>\n",
       "      <td>1042.5</td>\n",
       "      <td>1915.5</td>\n",
       "      <td>824228.5</td>\n",
       "    </tr>\n",
       "    <tr>\n",
       "      <th>75%</th>\n",
       "      <td>3304557120.2</td>\n",
       "      <td>46504.5</td>\n",
       "      <td>5622.2</td>\n",
       "      <td>2621.5</td>\n",
       "      <td>3448.8</td>\n",
       "      <td>3451.8</td>\n",
       "      <td>7145.2</td>\n",
       "      <td>9586.8</td>\n",
       "      <td>6333.2</td>\n",
       "      <td>9196.0</td>\n",
       "      <td>1.0</td>\n",
       "      <td>430.5</td>\n",
       "      <td>1962.5</td>\n",
       "      <td>3065.8</td>\n",
       "      <td>4203.0</td>\n",
       "      <td>3652.5</td>\n",
       "      <td>694.0</td>\n",
       "      <td>2138.2</td>\n",
       "      <td>2954.5</td>\n",
       "      <td>934320.8</td>\n",
       "    </tr>\n",
       "    <tr>\n",
       "      <th>max</th>\n",
       "      <td>3304557160.0</td>\n",
       "      <td>667603.0</td>\n",
       "      <td>122578.0</td>\n",
       "      <td>55935.0</td>\n",
       "      <td>62342.0</td>\n",
       "      <td>60567.0</td>\n",
       "      <td>86116.0</td>\n",
       "      <td>105316.0</td>\n",
       "      <td>83341.0</td>\n",
       "      <td>91408.0</td>\n",
       "      <td>13408.0</td>\n",
       "      <td>11668.0</td>\n",
       "      <td>19350.0</td>\n",
       "      <td>21237.0</td>\n",
       "      <td>33111.0</td>\n",
       "      <td>25779.0</td>\n",
       "      <td>4956.0</td>\n",
       "      <td>14833.0</td>\n",
       "      <td>63887.0</td>\n",
       "      <td>2915612.0</td>\n",
       "    </tr>\n",
       "  </tbody>\n",
       "</table>\n",
       "</div>"
      ],
      "text/plain": [
       "            codigo  população  popAte9  popDe10a14  popDe15a19  popDe20a24  \\\n",
       "count        160.0      160.0    160.0       160.0       160.0       160.0   \n",
       "mean  3304557080.5    42654.3   5329.1      2484.4      3272.2      3349.4   \n",
       "std           46.3    64262.9  10816.2      4948.8      5752.2      5601.9   \n",
       "min   3304557001.0      173.0     33.0        13.0        22.0        17.0   \n",
       "25%   3304557040.8    13362.8   1512.8       690.8       945.0       994.8   \n",
       "50%   3304557080.5    26076.0   3111.5      1434.0      2015.0      2142.5   \n",
       "75%   3304557120.2    46504.5   5622.2      2621.5      3448.8      3451.8   \n",
       "max   3304557160.0   667603.0 122578.0     55935.0     62342.0     60567.0   \n",
       "\n",
       "       popDe25a34  popDe35a49  popDe50a59  popMaisDe60  domiciliosA1  \\\n",
       "count       160.0       160.0       160.0        160.0         160.0   \n",
       "mean       6584.5      8826.9      5332.3       7475.7         388.5   \n",
       "std        9049.9     11536.3      7986.3      10258.3        1403.6   \n",
       "min          28.0        38.0        10.0         12.0           0.0   \n",
       "25%        2131.2      2900.8      1598.8       2118.2           0.0   \n",
       "50%        4170.5      5657.0      3371.5       4575.5           0.0   \n",
       "75%        7145.2      9586.8      6333.2       9196.0           1.0   \n",
       "max       86116.0    105316.0     83341.0      91408.0       13408.0   \n",
       "\n",
       "       domiciliosA2  domiciliosB1  domiciliosB2  domiciliosC1  domiciliosC2  \\\n",
       "count         160.0         160.0         160.0         160.0         160.0   \n",
       "mean          608.3        1871.6        2385.1        3539.8        3030.8   \n",
       "std          1535.2        2973.5        2779.1        4324.5        4003.0   \n",
       "min             0.0           0.0           0.0           5.0           3.0   \n",
       "25%             0.0         391.5         716.0        1088.8         789.8   \n",
       "50%           107.5         848.0        1536.0        2394.5        1861.5   \n",
       "75%           430.5        1962.5        3065.8        4203.0        3652.5   \n",
       "max         11668.0       19350.0       21237.0       33111.0       25779.0   \n",
       "\n",
       "       domiciliosD  domiciliosE  rendaMedia  faturamento  \n",
       "count        160.0        160.0       154.0        160.0  \n",
       "mean         568.4       1821.6      3608.1     876160.0  \n",
       "std          823.9       2292.1      6091.9     438210.6  \n",
       "min            0.0          2.0       654.0      24651.0  \n",
       "25%          117.8        431.5      1486.0     711278.5  \n",
       "50%          327.5       1042.5      1915.5     824228.5  \n",
       "75%          694.0       2138.2      2954.5     934320.8  \n",
       "max         4956.0      14833.0     63887.0    2915612.0  "
      ]
     },
     "execution_count": 6,
     "metadata": {},
     "output_type": "execute_result"
    }
   ],
   "source": [
    "pd.set_option('display.float_format', lambda x: '%.1f' % x)\n",
    "df.describe()"
   ]
  },
  {
   "cell_type": "markdown",
   "id": "e05b972b-278b-4611-98e4-ba9fefcbabda",
   "metadata": {},
   "source": [
    "### Verificando a existência de campos **nulos**\n",
    "#### Antes de mais nada, precisamos saber se existem campos nulos, para não causar problemas futuros no momento de criar nosso **modelo**\n",
    "#### Irei imprimir todos, já fazendo a **soma**"
   ]
  },
  {
   "cell_type": "code",
   "execution_count": 7,
   "id": "808d1812-1b50-431a-a06b-029b893cc052",
   "metadata": {},
   "outputs": [
    {
     "data": {
      "text/plain": [
       "codigo          0\n",
       "nome            0\n",
       "cidade          0\n",
       "estado          0\n",
       "população       0\n",
       "popAte9         0\n",
       "popDe10a14      0\n",
       "popDe15a19      0\n",
       "popDe20a24      0\n",
       "popDe25a34      0\n",
       "popDe35a49      0\n",
       "popDe50a59      0\n",
       "popMaisDe60     0\n",
       "domiciliosA1    0\n",
       "domiciliosA2    0\n",
       "domiciliosB1    0\n",
       "domiciliosB2    0\n",
       "domiciliosC1    0\n",
       "domiciliosC2    0\n",
       "domiciliosD     0\n",
       "domiciliosE     0\n",
       "rendaMedia      6\n",
       "faturamento     0\n",
       "dtype: int64"
      ]
     },
     "execution_count": 7,
     "metadata": {},
     "output_type": "execute_result"
    }
   ],
   "source": [
    "df.isnull().sum()"
   ]
  },
  {
   "cell_type": "markdown",
   "id": "db4da786-3dab-48ce-a5ea-1eec5ca00d99",
   "metadata": {},
   "source": [
    "### Por ser apenas seis linhas de uma única coluna, não iremos fazer algo radical. \n",
    "#### Uma de duas possíveis soluções acredito que sejam o suficiente, adicionar a média ou mediana da coluna para preencher esses campos nulos. Nesse caso eu irei optar pela mediana, já que a média poderia acabar agregando uma renda média muito maior do que o bairro teria."
   ]
  },
  {
   "cell_type": "code",
   "execution_count": 8,
   "id": "977393c6-e923-40ff-9444-541acfe3c59c",
   "metadata": {},
   "outputs": [],
   "source": [
    "renda_media_mediana = df['rendaMedia'].median()\n",
    "df.fillna(renda_media_mediana, inplace=True)"
   ]
  },
  {
   "cell_type": "markdown",
   "id": "6de9245c-b0a5-4d9e-bd0c-0d5af6b5b422",
   "metadata": {},
   "source": [
    "### Confirmando o preenchimento da mediana nas linhas nulas\n",
    "#### Check ✅"
   ]
  },
  {
   "cell_type": "code",
   "execution_count": 9,
   "id": "dfd090fe-a736-4a84-923d-60c2981d8329",
   "metadata": {},
   "outputs": [
    {
     "data": {
      "text/plain": [
       "codigo          0\n",
       "nome            0\n",
       "cidade          0\n",
       "estado          0\n",
       "população       0\n",
       "popAte9         0\n",
       "popDe10a14      0\n",
       "popDe15a19      0\n",
       "popDe20a24      0\n",
       "popDe25a34      0\n",
       "popDe35a49      0\n",
       "popDe50a59      0\n",
       "popMaisDe60     0\n",
       "domiciliosA1    0\n",
       "domiciliosA2    0\n",
       "domiciliosB1    0\n",
       "domiciliosB2    0\n",
       "domiciliosC1    0\n",
       "domiciliosC2    0\n",
       "domiciliosD     0\n",
       "domiciliosE     0\n",
       "rendaMedia      0\n",
       "faturamento     0\n",
       "dtype: int64"
      ]
     },
     "execution_count": 9,
     "metadata": {},
     "output_type": "execute_result"
    }
   ],
   "source": [
    "df.isnull().sum()"
   ]
  },
  {
   "cell_type": "markdown",
   "id": "873b8b7f-49e3-49bd-98e6-78a8a92c9d17",
   "metadata": {},
   "source": [
    "### Dando continuidade, vamos descobrir quais são os bairros mais populosos do RJ\n",
    "#### Os **10** mais populosos, em ordem **decrescente**"
   ]
  },
  {
   "cell_type": "code",
   "execution_count": 10,
   "id": "3d714f06-1075-4624-aef6-fc09f1a0cf27",
   "metadata": {},
   "outputs": [
    {
     "data": {
      "image/png": "[encoded data removed]",
      "text/plain": [
       "<Figure size 576x288 with 1 Axes>"
      ]
     },
     "metadata": {
      "needs_background": "light"
     },
     "output_type": "display_data"
    }
   ],
   "source": [
    "df_pop_sort_desc = df[['nome', 'população']].sort_values('população',ascending=False).head(10)\n",
    "plt.figure(figsize=(8,4))\n",
    "plt.bar('nome', 'população',data=df_pop_sort_desc, alpha=.6, color='royalblue')\n",
    "plt.xlabel('Bairro', size=15)\n",
    "plt.ylabel('Quantidade', size=15)\n",
    "plt.title('Top 10 - Bairros mais populosos', size=18)\n",
    "plt.xticks(rotation=60);"
   ]
  },
  {
   "cell_type": "markdown",
   "id": "45b98ee4-245f-4a7c-9b67-15b407fdfc07",
   "metadata": {},
   "source": [
    "#### Números exatos da população dos bairros selecionados"
   ]
  },
  {
   "cell_type": "code",
   "execution_count": 11,
   "id": "e2a17634-4529-4539-a119-d87648564abd",
   "metadata": {},
   "outputs": [
    {
     "data": {
      "text/html": [
       "<div>\n",
       "<style scoped>\n",
       "    .dataframe tbody tr th:only-of-type {\n",
       "        vertical-align: middle;\n",
       "    }\n",
       "\n",
       "    .dataframe tbody tr th {\n",
       "        vertical-align: top;\n",
       "    }\n",
       "\n",
       "    .dataframe thead th {\n",
       "        text-align: right;\n",
       "    }\n",
       "</style>\n",
       "<table border=\"1\" class=\"dataframe\">\n",
       "  <thead>\n",
       "    <tr style=\"text-align: right;\">\n",
       "      <th></th>\n",
       "      <th>nome</th>\n",
       "      <th>população</th>\n",
       "    </tr>\n",
       "  </thead>\n",
       "  <tbody>\n",
       "    <tr>\n",
       "      <th>23</th>\n",
       "      <td>Campo Grande</td>\n",
       "      <td>667603</td>\n",
       "    </tr>\n",
       "    <tr>\n",
       "      <th>8</th>\n",
       "      <td>Bangu</td>\n",
       "      <td>249987</td>\n",
       "    </tr>\n",
       "    <tr>\n",
       "      <th>127</th>\n",
       "      <td>Santa Cruz</td>\n",
       "      <td>223440</td>\n",
       "    </tr>\n",
       "    <tr>\n",
       "      <th>117</th>\n",
       "      <td>Realengo</td>\n",
       "      <td>185206</td>\n",
       "    </tr>\n",
       "    <tr>\n",
       "      <th>141</th>\n",
       "      <td>Tijuca</td>\n",
       "      <td>168267</td>\n",
       "    </tr>\n",
       "    <tr>\n",
       "      <th>72</th>\n",
       "      <td>Jacarepaguá</td>\n",
       "      <td>161748</td>\n",
       "    </tr>\n",
       "    <tr>\n",
       "      <th>36</th>\n",
       "      <td>Copacabana</td>\n",
       "      <td>150524</td>\n",
       "    </tr>\n",
       "    <tr>\n",
       "      <th>9</th>\n",
       "      <td>Barra Da Tijuca</td>\n",
       "      <td>139761</td>\n",
       "    </tr>\n",
       "    <tr>\n",
       "      <th>90</th>\n",
       "      <td>Maré</td>\n",
       "      <td>133432</td>\n",
       "    </tr>\n",
       "    <tr>\n",
       "      <th>62</th>\n",
       "      <td>Guaratiba</td>\n",
       "      <td>112994</td>\n",
       "    </tr>\n",
       "  </tbody>\n",
       "</table>\n",
       "</div>"
      ],
      "text/plain": [
       "                nome  população\n",
       "23      Campo Grande     667603\n",
       "8              Bangu     249987\n",
       "127       Santa Cruz     223440\n",
       "117         Realengo     185206\n",
       "141           Tijuca     168267\n",
       "72       Jacarepaguá     161748\n",
       "36        Copacabana     150524\n",
       "9    Barra Da Tijuca     139761\n",
       "90              Maré     133432\n",
       "62         Guaratiba     112994"
      ]
     },
     "execution_count": 11,
     "metadata": {},
     "output_type": "execute_result"
    }
   ],
   "source": [
    "df_pop_sort_desc"
   ]
  },
  {
   "cell_type": "markdown",
   "id": "15462e48-67be-49b8-9659-2468da430e78",
   "metadata": {},
   "source": [
    "### Gráficos dos principais bairros com a maior quantidade de domicilios **A1, A2, B1 e B2**, respectivamente\n",
    "#### Os **10** mais populosos por categoria. Segue a lista!\n",
    "## **A1**"
   ]
  },
  {
   "cell_type": "code",
   "execution_count": 12,
   "id": "f6df8976-f6b7-4e15-809b-c172786a6657",
   "metadata": {},
   "outputs": [
    {
     "data": {
      "image/png": "[encoded data removed]",
      "text/plain": [
       "<Figure size 576x288 with 1 Axes>"
      ]
     },
     "metadata": {
      "needs_background": "light"
     },
     "output_type": "display_data"
    }
   ],
   "source": [
    "df_domA1_sort_desc = df[['nome','domiciliosA1']].sort_values('domiciliosA1', ascending=False).head(10)\n",
    "plt.figure(figsize=(8,4))\n",
    "plt.bar('nome', 'domiciliosA1', data=df_domA1_sort_desc, alpha=.5, color='green')\n",
    "plt.xlabel('Bairro', size=15)\n",
    "plt.ylabel('População', size=15)\n",
    "plt.title('Domicilios A1', size=18)\n",
    "plt.xticks(rotation=60);"
   ]
  },
  {
   "cell_type": "markdown",
   "id": "58baeaea-ef49-4845-9ca1-437c3ce54ba3",
   "metadata": {},
   "source": [
    "## **A2**"
   ]
  },
  {
   "cell_type": "code",
   "execution_count": 13,
   "id": "26b05c5f-ab26-436b-9c87-656d82d17f78",
   "metadata": {},
   "outputs": [
    {
     "data": {
      "image/png": "[encoded data removed]",
      "text/plain": [
       "<Figure size 576x288 with 1 Axes>"
      ]
     },
     "metadata": {
      "needs_background": "light"
     },
     "output_type": "display_data"
    }
   ],
   "source": [
    "df_domA2_sort_desc = df[['nome','domiciliosA2']].sort_values('domiciliosA2', ascending=False).head(10)\n",
    "plt.figure(figsize=(8,4))\n",
    "plt.bar('nome', 'domiciliosA2', data=df_domA2_sort_desc, alpha=.5, color='green')\n",
    "plt.xlabel('Bairro', size=15)\n",
    "plt.ylabel('População', size=15)\n",
    "plt.title('Domicilios A2', size=18)\n",
    "plt.xticks(rotation=60);"
   ]
  },
  {
   "cell_type": "markdown",
   "id": "d5487d6b-f926-4e91-a205-9451d9147395",
   "metadata": {},
   "source": [
    "## **B1**"
   ]
  },
  {
   "cell_type": "code",
   "execution_count": 14,
   "id": "6bd0b34e-84cc-4a29-9e0d-f6cbc13504c0",
   "metadata": {},
   "outputs": [
    {
     "data": {
      "image/png": "[encoded data removed]",
      "text/plain": [
       "<Figure size 576x288 with 1 Axes>"
      ]
     },
     "metadata": {
      "needs_background": "light"
     },
     "output_type": "display_data"
    }
   ],
   "source": [
    "df_domB1_sort_desc = df[['nome','domiciliosB1']].sort_values('domiciliosB1', ascending=False).head(10)\n",
    "plt.figure(figsize=(8,4))\n",
    "plt.bar('nome', 'domiciliosB1', data=df_domB1_sort_desc, alpha=.5, color='royalblue')\n",
    "plt.xlabel('Bairro', size=15)\n",
    "plt.ylabel('População', size=15)\n",
    "plt.title('Domicilios B1', size=18)\n",
    "plt.xticks(rotation=60);"
   ]
  },
  {
   "cell_type": "markdown",
   "id": "199f5cab-9dbf-4f6b-822d-54b3e7e8a1f7",
   "metadata": {},
   "source": [
    "## **B2**"
   ]
  },
  {
   "cell_type": "code",
   "execution_count": 15,
   "id": "dbdbb006-6ef0-4674-969c-bd97dac8eaec",
   "metadata": {},
   "outputs": [
    {
     "data": {
      "image/png": "[encoded data removed]",
      "text/plain": [
       "<Figure size 576x288 with 1 Axes>"
      ]
     },
     "metadata": {
      "needs_background": "light"
     },
     "output_type": "display_data"
    }
   ],
   "source": [
    "df_domB2_sort_desc = df[['nome','domiciliosB2']].sort_values('domiciliosB2', ascending=False).head(10)\n",
    "plt.figure(figsize=(8,4))\n",
    "plt.bar('nome', 'domiciliosB2', data=df_domB2_sort_desc, alpha=.5, color='royalblue')\n",
    "plt.xlabel('Bairro', size=15)\n",
    "plt.ylabel('População', size=15)\n",
    "plt.title('Domicilios B2', size=18)\n",
    "plt.xticks(rotation=60);"
   ]
  },
  {
   "cell_type": "markdown",
   "id": "376e2c85-9c55-449b-8179-1e7a99d19bc8",
   "metadata": {},
   "source": [
    "### Os bairros que mais faturam\n",
    "#### Apenas os **10** bairros mais rentáveis 📊"
   ]
  },
  {
   "cell_type": "code",
   "execution_count": 16,
   "id": "e7a60711-84fd-4a39-a0d0-8eef7acf6b99",
   "metadata": {},
   "outputs": [
    {
     "data": {
      "image/png": "[encoded data removed]",
      "text/plain": [
       "<Figure size 576x288 with 1 Axes>"
      ]
     },
     "metadata": {
      "needs_background": "light"
     },
     "output_type": "display_data"
    }
   ],
   "source": [
    "df_fat_sort_desc = df[['nome','faturamento']].sort_values('faturamento', ascending=False).head(10)\n",
    "plt.figure(figsize=(8, 4))\n",
    "plt.bar('nome', 'faturamento',data= df_fat_sort_desc, alpha=.6, color=\"royalblue\")\n",
    "plt.xlabel(\"Bairro\", size=15)\n",
    "plt.ylabel(\"Faturamento\", size=15)\n",
    "plt.title(\"Faturamento por bairro\", size=18)\n",
    "plt.xticks(rotation=60);"
   ]
  },
  {
   "cell_type": "markdown",
   "id": "940a47ed-01ba-4191-8279-0e54219f4396",
   "metadata": {},
   "source": [
    "### Os bairros com as maiores rendas médias\n",
    "#### Esse gráfico é muito interessante pelo seguinte fato, o bairro **Lagoa** não é o que mais fatura, inclusive nem está entre os top 7, porém a renda média é 3x maior do que qualquer outro bairro do dataset. Suspeito né?! Exatamente de acordo com o desvio padrão que vimos lá em cima 🤔"
   ]
  },
  {
   "cell_type": "code",
   "execution_count": 17,
   "id": "75e60179-c07d-4e94-a863-d9a0dbdc7c95",
   "metadata": {},
   "outputs": [
    {
     "data": {
      "image/png": "[encoded data removed]",
      "text/plain": [
       "<Figure size 576x288 with 1 Axes>"
      ]
     },
     "metadata": {
      "needs_background": "light"
     },
     "output_type": "display_data"
    }
   ],
   "source": [
    "df_rm_sort_desc = df[['nome','rendaMedia']].sort_values('rendaMedia', ascending=False).head(10)\n",
    "plt.figure(figsize=(8, 4))\n",
    "plt.bar('nome', 'rendaMedia',data= df_rm_sort_desc, alpha=.6, color=\"royalblue\")\n",
    "plt.xlabel(\"Bairro\", size=15)\n",
    "plt.ylabel(\"Renda Média\", size=15)\n",
    "plt.title(\"Renda média por bairro\", size=18)\n",
    "plt.xticks(rotation=60);"
   ]
  },
  {
   "cell_type": "markdown",
   "id": "2afc225e-593a-438d-84f9-4ab3e7ab17ad",
   "metadata": {},
   "source": [
    "### Olha... cheguei a conclusão que o valor de **63.887** que o bairro **Lagoa** tem como **renda média** é um erro.\n",
    "#### Em certo momento até cheguei a pensar que fosse um **outlider**, mas não, é um erro. Nem os bairros que mais faturam chegam perto de ter renda média tão disproporcional quanto esta. Analisei o dataset com calma, comparei os atributos de **Lagoa** com outros bairros.\n",
    "#### O provável erro que eu acredito que tenha acontecido foi o dígito **3**, ele não faz parte do valor total **(63.887)**, pelas minhas analises o valor mais realista seria **6.887**\n",
    "#### Segundo ponto, renda média mais alta causa faturamento mais alto, e por consequência, este valor também estava errado. Ele foi setado com **1.775.547(Milhão)**. Porém acredito que o valor final seja pouco mais de 1 milhão e meio\n",
    "#### Dito isso, decidi fazer duas mudanças que seriam mais realistas para as variáveis deste bairro\n",
    "#### Primeira: Alterar a renda média de **63.887**, para **6.887**\n",
    "#### Segunda: Alterar o faturamento de **1.775.547**, para **1.500.000**\n",
    "##### Obs: arredondei o faturamento pelo fato não saber o valor exato, mas sei que é um valor muito próximo do real"
   ]
  },
  {
   "cell_type": "code",
   "execution_count": 18,
   "id": "bb420b14-5bda-474e-af24-402bd6da92c1",
   "metadata": {},
   "outputs": [],
   "source": [
    "df.loc[df['rendaMedia'] == 63887 , 'rendaMedia'] = 6887\n",
    "df.loc[df['faturamento'] == 1775547 , 'faturamento'] = 1500000"
   ]
  },
  {
   "cell_type": "markdown",
   "id": "f4d27ea1-1c4d-4552-82c3-e44620f0f993",
   "metadata": {},
   "source": [
    "### Setando os valores do eixo **X** e **Y** para fazer a separação de alvo e preditora, respectivamente"
   ]
  },
  {
   "cell_type": "code",
   "execution_count": 19,
   "id": "4dd21e76-88a4-4811-9192-b17cfbda1225",
   "metadata": {},
   "outputs": [],
   "source": [
    "x = np.array(df['faturamento']).reshape(-1,1)\n",
    "y = np.array(df['rendaMedia']).reshape(-1, 1)"
   ]
  },
  {
   "cell_type": "markdown",
   "id": "d81307d4-1d8e-4416-9600-affd177a538d",
   "metadata": {},
   "source": [
    "### Criando os testes e treinos para realizar a criação do modelo\n",
    "#### Setei **9%** para teste\n",
    "#### Por consequência, os outros **91%** serão para treino"
   ]
  },
  {
   "cell_type": "code",
   "execution_count": 20,
   "id": "ad67d52e-5847-49a4-a35b-09822b0b86aa",
   "metadata": {},
   "outputs": [],
   "source": [
    "x_train, x_test, y_train, y_test = train_test_split(x, y, test_size = 0.09)"
   ]
  },
  {
   "cell_type": "markdown",
   "id": "93f6466b-9a2d-4a9d-9d73-d99116dd729f",
   "metadata": {},
   "source": [
    "### Atribuindo a função LinearRegression() em uma variável"
   ]
  },
  {
   "cell_type": "code",
   "execution_count": 21,
   "id": "c6c22c60-6caa-4190-8361-4acb9527587d",
   "metadata": {},
   "outputs": [],
   "source": [
    "model = lm.LinearRegression()"
   ]
  },
  {
   "cell_type": "markdown",
   "id": "0cedc46f-2683-41c3-9eb5-d9e071db18c4",
   "metadata": {},
   "source": [
    "### _*Treinando...*_"
   ]
  },
  {
   "cell_type": "code",
   "execution_count": 22,
   "id": "881b1c90-9e15-4733-941b-50f89668456f",
   "metadata": {},
   "outputs": [
    {
     "data": {
      "text/plain": [
       "LinearRegression()"
      ]
     },
     "execution_count": 22,
     "metadata": {},
     "output_type": "execute_result"
    }
   ],
   "source": [
    "model.fit(x_train, y_train)"
   ]
  },
  {
   "cell_type": "markdown",
   "id": "fa0f2e24-7c03-4955-9df0-7e635659bfc4",
   "metadata": {},
   "source": [
    "### Atribuindo a predição em uma variável"
   ]
  },
  {
   "cell_type": "code",
   "execution_count": 23,
   "id": "b1ff9a87-f1a1-4e7b-b634-3038d3a0d729",
   "metadata": {},
   "outputs": [],
   "source": [
    "predicoesFat = model.predict(x_test)"
   ]
  },
  {
   "cell_type": "markdown",
   "id": "509f39bf-c892-4515-97be-7aa42093d2fc",
   "metadata": {},
   "source": [
    "### Plotando o gráfico que irá conter com a linha vermelha, o modelo de **treino** que foi criado"
   ]
  },
  {
   "cell_type": "code",
   "execution_count": 24,
   "id": "401dad26-4537-40e5-baa3-2eb43cb956ba",
   "metadata": {},
   "outputs": [
    {
     "data": {
      "image/png": "[encoded data removed]",
      "text/plain": [
       "<Figure size 432x288 with 1 Axes>"
      ]
     },
     "metadata": {
      "needs_background": "light"
     },
     "output_type": "display_data"
    }
   ],
   "source": [
    "plt.scatter(x_train, y_train, color='blue')\n",
    "plt.plot(x_train, model.coef_[0][0]*x_train + model.intercept_[0], '-r')\n",
    "plt.ylabel('Renda Média')\n",
    "plt.xlabel('Faturamento')\n",
    "plt.show()"
   ]
  },
  {
   "cell_type": "markdown",
   "id": "447541f9-4064-4e71-9517-400550c02b6e",
   "metadata": {},
   "source": [
    "### Resultado final... **83%** de acerto do modelo que foi criado\n",
    "#### Obviamente ainda tem espaço para aumentar essa porcentagem de acerto, mas por hora, acredito que seja um modelo bem assertivo."
   ]
  },
  {
   "cell_type": "code",
   "execution_count": 25,
   "id": "ed69a5bf-1435-4a7f-96d1-53c2cf3e5cdd",
   "metadata": {},
   "outputs": [
    {
     "name": "stdout",
     "output_type": "stream",
     "text": [
      "R2-score: 0.83\n"
     ]
    }
   ],
   "source": [
    "print('R2-score: %.2f' % r2_score(predicoesFat, y_test))"
   ]
  },
  {
   "cell_type": "markdown",
   "id": "5005d4a4-03dc-4605-9b4c-86701abe439b",
   "metadata": {},
   "source": [
    "## Esse foi o fim do case. \n",
    "### Agradeço desde já pela oportunidade, foi muito legal ter explorado o dataset, espero que eu tenha desempenhado de acordo com o que vocês esperavam.\n",
    "### Abs 👋🏻"
   ]
  }
 ],
 "metadata": {
  "kernelspec": {
   "display_name": "Python 3",
   "language": "python",
   "name": "python3"
  },
  "language_info": {
   "codemirror_mode": {
    "name": "ipython",
    "version": 3
   },
   "file_extension": ".py",
   "mimetype": "text/x-python",
   "name": "python",
   "nbconvert_exporter": "python",
   "pygments_lexer": "ipython3",
   "version": "3.8.8"
  }
 },
 "nbformat": 4,
 "nbformat_minor": 5
}
